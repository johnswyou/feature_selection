{
 "cells": [
  {
   "cell_type": "code",
   "execution_count": 15,
   "metadata": {},
   "outputs": [],
   "source": [
    "import pytest\n",
    "import numpy as np\n",
    "import pandas as pd\n",
    "\n",
    "from sklearn.datasets import load_diabetes\n",
    "\n",
    "from feature_selection import EAcmi_framework_tol\n",
    "\n",
    "def test_EAcmi_framework_tol_sklearn_regression():\n",
    "    \"\"\"\n",
    "    This test loads a standard scikit-learn diabetes dataset \n",
    "    (10 features, continuous target) and applies EAcmi_framework_tol.\n",
    "    We check that the function completes without error and returns \n",
    "    a non-empty DataFrame of results.\n",
    "    \"\"\"\n",
    "    # Load the diabetes dataset\n",
    "    X, y = load_diabetes(return_X_y=True)\n",
    "\n",
    "    # We can choose some threshold for the CMI/MI ratio\n",
    "    # e.g., 0.01, or 0.02\n",
    "    threshold = 0.1\n",
    "\n",
    "    # Call your function. \n",
    "    # If your function is in the same file, just call it directly;\n",
    "    # otherwise import from the relevant module.\n",
    "    df_results = EAcmi_framework_tol(X, y, threshold, silent=True)\n",
    "\n",
    "    # Basic checks\n",
    "    # 1) Ensure we got a Pandas DataFrame\n",
    "    assert isinstance(df_results, pd.DataFrame)\n",
    "\n",
    "    # 2) Usually we expect at least one feature to be selected\n",
    "    #    But if the data or threshold is unusual, it *could* be empty.\n",
    "    #    We'll check that it doesn't raise errors anyway.\n",
    "    #    If you want to enforce at least 1 row, do:\n",
    "    assert len(df_results) > 0\n",
    "\n",
    "    # Optionally print or log it\n",
    "    print(df_results)"
   ]
  },
  {
   "cell_type": "code",
   "execution_count": 16,
   "metadata": {},
   "outputs": [
    {
     "name": "stdout",
     "output_type": "stream",
     "text": [
      "   Iteration    Input     CMI      MI  CMI.MI.ratio  CMIevals  CPUtime  \\\n",
      "0          1  Input_2  0.2738  0.2738        1.0000        10   0.0099   \n",
      "1          2  Input_8  0.1064  0.3802        0.2800        19   0.0316   \n",
      "2          3  Input_3  0.0410  0.4212        0.0973        27   0.0452   \n",
      "\n",
      "   ElapsedTime  \n",
      "0       0.0124  \n",
      "1       0.0390  \n",
      "2       0.0534  \n"
     ]
    }
   ],
   "source": [
    "test_EAcmi_framework_tol_sklearn_regression()"
   ]
  },
  {
   "cell_type": "code",
   "execution_count": 19,
   "metadata": {},
   "outputs": [],
   "source": [
    "def test_EAcmi_framework_tol_large_data():\n",
    "    \"\"\"\n",
    "    Test EAcmi_framework_tol on a large random dataset: 10,000 rows x 200 features.\n",
    "    \"\"\"\n",
    "    # To ensure repeatability, set a fixed seed:\n",
    "    np.random.seed(42)\n",
    "    \n",
    "    # Create a dataset of shape (10000, 200)\n",
    "    n_rows = 2000\n",
    "    n_feats = 50\n",
    "    X = np.random.randn(n_rows, n_feats)\n",
    "    \n",
    "    # Create a target y with 10,000 rows (1D)\n",
    "    y = np.random.randn(n_rows)\n",
    "    \n",
    "    # Choose a threshold for the ratio\n",
    "    threshold = 0.01\n",
    "    \n",
    "    # Run the function\n",
    "    # Depending on your CPU and algorithm complexity, this might take a while.\n",
    "    df_results = EAcmi_framework_tol(X, y, thresh=threshold, silent=True)\n",
    "    \n",
    "    # Basic checks:\n",
    "    assert isinstance(df_results, pd.DataFrame), \\\n",
    "        \"Expected a Pandas DataFrame return.\"\n",
    "    \n",
    "    # The DataFrame might be empty if no features are selected above threshold.\n",
    "    # Typically you'd expect some selection, but let's just confirm no error:\n",
    "    # If you *do* expect at least 1 feature in normal circumstances, you can do:\n",
    "    # assert not df_results.empty, \"Expected at least one feature to be selected.\"\n",
    "    \n",
    "    # Optionally print or log the result\n",
    "    print(df_results)"
   ]
  },
  {
   "cell_type": "code",
   "execution_count": null,
   "metadata": {},
   "outputs": [],
   "source": [
    "test_EAcmi_framework_tol_large_data()"
   ]
  },
  {
   "cell_type": "code",
   "execution_count": null,
   "metadata": {},
   "outputs": [],
   "source": []
  }
 ],
 "metadata": {
  "kernelspec": {
   "display_name": "hydrology_research",
   "language": "python",
   "name": "python3"
  },
  "language_info": {
   "codemirror_mode": {
    "name": "ipython",
    "version": 3
   },
   "file_extension": ".py",
   "mimetype": "text/x-python",
   "name": "python",
   "nbconvert_exporter": "python",
   "pygments_lexer": "ipython3",
   "version": "3.11.11"
  }
 },
 "nbformat": 4,
 "nbformat_minor": 2
}
